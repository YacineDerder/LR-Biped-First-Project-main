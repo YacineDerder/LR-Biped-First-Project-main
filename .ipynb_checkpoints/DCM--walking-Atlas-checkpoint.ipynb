{
 "cells": [
  {
   "cell_type": "markdown",
   "id": "b4271c40",
   "metadata": {},
   "source": [
    "<div style=\"text-align:center\"><span style=\"color:purple; font-family:helvetica; font-size:2.0em;\">Locomotion planning based on Divergent Component of Motion(DCM)</span></div>"
   ]
  },
  {
   "cell_type": "markdown",
   "id": "9bc1d376",
   "metadata": {},
   "source": [
    "In this project you will plan CoM trajectory by using DCM concept for locomotion on flat terrain.\n",
    "In this way We need to have three blocks of DCM Planner, Foot Trajectory Planner and Inverse Kinematics.\n",
    "The only Block that you need to implement is DCM Planner. In another words you only need to open and edit `DCMTrajectoryGenerator.py` class and following the comments that has been written in this class. The other parts has been already implemented. In the following you can go forward and run the jupyter notebook step by step until you reach to \"Implementation of Planning DCM and CoM Trajectories\" that you need to implement `DCMTrajectoryGenerator.py` and at the end you sould have the DCM and CoM vector with a size of 4320 that will be used in the inverse kinematics."
   ]
  },
  {
   "cell_type": "markdown",
   "id": "1359e1fa",
   "metadata": {},
   "source": [
    "<div style=\"text-align:center\"><span style=\"color:black; font-family:helvetica; font-size:1.7em;\">Importing the required libraries</span></div>"
   ]
  },
  {
   "cell_type": "code",
   "execution_count": null,
   "id": "b0df37d8",
   "metadata": {},
   "outputs": [],
   "source": [
    "#In the following we import the classes that we need for simulation\n",
    "import time\n",
    "import pybullet #pybullet simulator\n",
    "import pybullet_data\n",
    "import numpy as np # numpy library for matrix computatios\n",
    "from FootTrajectoryGenerator import * # Foot trajectory generation Class\n",
    "\n",
    "#uncomment after implementation\n",
    "#from DCMTrajectoryGenerator import * #  DCM trajectory generation Class(will be implemented by students)\n",
    "from RobotUtils import * # Class related to Inverse Kinematics "
   ]
  },
  {
   "cell_type": "markdown",
   "id": "20202865",
   "metadata": {},
   "source": [
    "<div style=\"text-align:center\"><span style=\"color:black; font-family:helvetica; font-size:1.7em;\">Preparing Pybullet environment</span></div>"
   ]
  },
  {
   "cell_type": "code",
   "execution_count": null,
   "id": "8e45c9ac",
   "metadata": {},
   "outputs": [],
   "source": [
    "#In the following we create an object of dynamic engine of pybullet and we connect it to the Pybullet GUI\n",
    "phisycsClient = pybullet.connect(pybullet.GUI)\n",
    "pybullet.setAdditionalSearchPath(pybullet_data.getDataPath())"
   ]
  },
  {
   "cell_type": "code",
   "execution_count": null,
   "id": "7a69d99b",
   "metadata": {},
   "outputs": [],
   "source": [
    "#In the following we load the urdf model of the robot and we specify the setting for the simulation\n",
    "pybullet.resetSimulation()\n",
    "planeID = pybullet.loadURDF(\"plane.urdf\")\n",
    "pybullet.configureDebugVisualizer(pybullet.COV_ENABLE_RENDERING,0)\n",
    "pybullet.setGravity(0,0,-9.81)\n",
    "atlas=robotID = pybullet.loadURDF(\"atlas/atlas_v4_with_multisense.urdf\", [0,0,0.93],useFixedBase = 0)\n",
    "pybullet.setPhysicsEngineParameter(numSubSteps=1)\n",
    "pybullet.configureDebugVisualizer(pybullet.COV_ENABLE_RENDERING,1)\n",
    "pybullet.setRealTimeSimulation(0)"
   ]
  },
  {
   "cell_type": "markdown",
   "id": "1161c603",
   "metadata": {},
   "source": [
    "<div style=\"text-align:center\"><span style=\"color:black; font-family:helvetica; font-size:1.7em;\">Planning Feet Trajectories</span></div>"
   ]
  },
  {
   "cell_type": "code",
   "execution_count": null,
   "id": "8a7bb029",
   "metadata": {},
   "outputs": [],
   "source": [
    "#In this part we will specify the steps position and duration and we will implement foot trajectory generation\n",
    "doubleSupportDuration = 0.14 #We select 0.25 second as DS duration\n",
    "stepDuration = 0.7 #We select 1.2 second as step duration(step duration=SS+DS)\n",
    "pelvisHeight= 0.72 #Constant pelvis(CoM) height during walking\n",
    "maximumFootHeight = 0.05 #The maximum height of swing foot during each step\n",
    "\n",
    "FootPlanner = FootTrajectoryGenerator(stepDuration, doubleSupportDuration, maximumFootHeight) #We create an object of foot FootTrajectoryGenerator Class\n",
    "stepWidth=0.12 #=lateralDistanceOfFeet/2\n",
    "stepLength=0.14 #longitudinal distance between two sequential feet stepLength=stepStride/2, \n",
    "numberOfFootPrints=17\n",
    "FootPrints=np.empty((numberOfFootPrints, 3))\n",
    "\n",
    "#In the following we define the foot step positions\n",
    "for i in range(0,numberOfFootPrints):\n",
    "    if(i%2==0):\n",
    "        if(i==0):\n",
    "            FootPrints[i][:]=[i*stepLength,stepWidth,0.0]\n",
    "        elif(i==numberOfFootPrints-1):\n",
    "            FootPrints[i][:]=[(i-2)*stepLength,stepWidth,0.0]            \n",
    "        else:\n",
    "            FootPrints[i][:]=[(i-1)*stepLength,stepWidth,0.0]\n",
    "    else:\n",
    "        FootPrints[i][:]=[(i-1)*stepLength,-stepWidth,0.0]\n",
    "            \n",
    "\n",
    "FootPlanner.setFootPrints(FootPrints)#We set the foot step positions\n",
    "FootPlanner.generateTrajectory() #We generate the foot trajectory \n",
    "leftFootTrajectory = np.array(FootPlanner.getLeftFootTrajectory())\n",
    "rightFootTrajectory = np.array(FootPlanner.getRightFootTrajectory())"
   ]
  },
  {
   "cell_type": "markdown",
   "id": "bcebf94c",
   "metadata": {},
   "source": [
    "<div style=\"text-align:center\"><span style=\"color:black; font-family:helvetica; font-size:1.7em;\">Plot Feet Trajectories</span></div>"
   ]
  },
  {
   "cell_type": "code",
   "execution_count": null,
   "id": "ac5bfaa6",
   "metadata": {},
   "outputs": [],
   "source": [
    "        tempL=np.array(FootPlanner.lFoot_)\n",
    "        tempR=np.array(FootPlanner.rFoot_)\n",
    "        figg1, (ax1) = plt.subplots(figsize = (14, 7))\n",
    "        ax1.plot(tempL[:,0],'r',label=\"Left\")\n",
    "        ax1.plot(tempR[:,0],'b',label=\"Right\")\n",
    "        ax1.set_xlabel('time(s)')\n",
    "        ax1.set_ylabel('X Foot Position(m)')\n",
    "        figg1.legend(bbox_to_anchor=(0.8, 0.8))\n",
    "        plt.show()\n",
    "        \n",
    "        figg2, (ax3) = plt.subplots(figsize = (14, 7))\n",
    "        ax3.plot(tempL[:,2],'red',label=\"Left\")\n",
    "        ax3.plot(tempR[:,2],'blue',label=\"Right\")\n",
    "        ax3.set_xlabel('time(s)')\n",
    "        ax3.set_ylabel('Z Foot Position(m)')\n",
    "        figg2.legend(bbox_to_anchor=(0.8, 0.8))\n",
    "        plt.show() \n",
    "        \n",
    "        figg3, (ax2) = plt.subplots(figsize = (14, 7))\n",
    "        ax2.plot(tempL[:,1],'--r',label=\"Left\")\n",
    "        ax2.plot(tempR[:,1],'--b',label=\"Right\")\n",
    "        ax2.set_xlabel('time(s)')\n",
    "        ax2.set_ylabel('Y Foot Position(m)')\n",
    "        ax2.set(xlim=(-0.2, 2700), ylim=(-0.3, 0.3))\n",
    "        figg3.legend(bbox_to_anchor=(0.8, 0.8))\n",
    "        plt.show() "
   ]
  },
  {
   "cell_type": "markdown",
   "id": "5bf483f4",
   "metadata": {},
   "source": [
    "<div style=\"text-align:center\"><span style=\"color:black; font-family:helvetica; font-size:1.7em;\"Locomotion Planning based on DCM</span></div>"
   ]
  },
  {
   "cell_type": "markdown",
   "id": "2cda8102",
   "metadata": {},
   "source": [
    "<div style=\"text-align:center\"><span style=\"color:black; font-family:helvetica; font-size:1.7em;\">DCM and CoM Motion Planning</span></div>"
   ]
  },
  {
   "cell_type": "markdown",
   "id": "0c3cd9cd",
   "metadata": {},
   "source": [
    "In this section we will plan DCM and CoM trajectory by the method that has been presented in the following paper:\n",
    "\"Englsberger, Johannes, Christian Ott, and Alin Albu-Schäffer. \"Three-dimensional bipedal walking control based on divergent component of motion.\" Ieee transactions on robotics 31.2 (2015): 355-368.(254)\"\n",
    "\n",
    "\n",
    "Here we elaborate the equation in details. For the inverted pendulum equation we have:\n",
    "<img src=\"img/invertedpendulum.png\" width=300 height=300 />\n",
    "\n",
    "\\begin{equation}\n",
    "\\ddot x_c=\\omega^2(x_c-r_{CoP})  \\; \\; \\; \\; \\; \\; (1)\n",
    "\\end{equation}\n",
    "\n",
    "This equation has been drived by finding the momentum around COP(ZMP) that is equal to zero by having dynamic balancing condition. Then we define the DCM dynamics as following:\n",
    "\n",
    "$$ \\xi=x_c + \\frac{\\dot x_c}{\\omega} \\; \\; \\; \\; \\; \\; (2)$$\n",
    "\n",
    "where $\\xi $is the DCM, $x_c$ is the CoM position and velocity and $\\omega=\\sqrt{\\frac{g}{z_c}}$ is the natural frequency of the DCM dynamics. By reordering (2), we can derive the CoM dynamics:\n",
    "\n",
    "$$\\dot x_c=\\omega(\\xi-x_c) \\; \\; \\; \\; \\; \\; (3)$$\n",
    " This shows that the CoM has a stable first-order dynamics. (i.e., it follows the DCM). By differentiating 2) and inserting (3) and (1), we have the DCM dynamics:\n",
    "$$\\dot \\xi=\\omega(\\xi-r_{CoP}) \\; \\; \\; \\; \\; \\; (4) $$\n",
    "\n",
    "\n",
    "The DCM has an unstable first-order dynamics (it is “pushed” by the CoP), whereas the CoM follows the DCM with the stable first-order dynamics. \n",
    "\n",
    "To find the desired DCM trajectory from given constant $CoP$s, the solution of DCM Dynamics is:\n",
    "\n",
    "$$\\xi(t)=r_{cop}+(\\xi_{0}-r_{cop})e^{\\omega t} \\; \\; \\; \\; \\; \\; (5) $$\n",
    "\n",
    "Where $\\xi_0 =\\xi(0)$. The “internal” timestep t is reset at the beginning of each step, i.e., $t \\in [0,T] $ ($T$ is the duration of the step). In the following, we will present a step by step method for DCM and CoM motion planning based on the (5). The step 1\n",
    "\n",
    "\n",
    "1. First, we select the foot step position and step duration based on the desired velocity and considering the kinematic and dynamic constraint of the robot: \n",
    "\n",
    ".\n",
    "<img src=\"img/00.png\" width=300 height=300 />\n",
    ".\n",
    "\n",
    "2. Place the desired CoP in a fixed location inside of the foot print(This condition garantee having dynamic balance during locomotion):\n",
    "\n",
    ".\n",
    "<img src=\"img/0.png\" width=300 height=300 />\n",
    ".\n",
    "\n",
    "\n",
    "3. We place the last DCM position on the last CoP(Capturability constraint). For planning, we assume that the DCM will come to a stop over the final previewed foot position, i.e., $\\xi_{eos,N-1}=r_{cop,N}$\n",
    "\n",
    ".\n",
    "<img src=\"img/1.png\" width=300 height=300 />\n",
    ".\n",
    "\n",
    "\n",
    "4.  By having  the constant desired $CoP$s position for each step and the last DCM Position(located on CoP),  we find the desired DCM locations at the end of each step via recursion using equation (5):\n",
    "\n",
    "$$\\xi_{eos,i}=r_{cop,i}+(\\xi_{ini,i}-r_{cop,i})e^{\\omega T} \\; \\; \\; \\; \\; \\; (6)$$\n",
    "\n",
    "$$\\xi_{ini,i}=r_{cop,i}+(\\xi_{eos,i}-r_{cop,i})e^{-\\omega T} \\; \\; \\; \\; \\; \\; (7) $$\n",
    "$$\\xi_{eos,i-1}=\\xi_{ini,i}\\; \\; \\; \\; \\; \\; (8)$$\n",
    "\n",
    ".\n",
    "<img src=\"img/2.png\" width=400 height=400 />\n",
    ".\n",
    "\n",
    " $\\xi_{ini,i}$ is the ith initial desired DCM.\n",
    " \n",
    "\n",
    " \n",
    "5. Now, the reference trajectories for the DCM position of $i$th step can be computed as:$$\\xi_i(t)=r_{cop,i}+(\\xi_{eos,i}-r_{cop,i})e^{\\omega (t-T)}\\; \\; \\; \\; \\; \\; (9)$$ The “internal” step time t is reset at the beginning of each step, i.e., $t \\in [0,T] $ ($T$ is the duration of the step).\n",
    "\n",
    ".\n",
    "<img src=\"img/3.png\" width=400 height=400 />\n",
    ".\n",
    "\n"
   ]
  },
  {
   "cell_type": "markdown",
   "id": "d4a869bd",
   "metadata": {},
   "source": [
    "<div style=\"text-align:center\"><span style=\"color:black; font-family:helvetica; font-size:1.7em;\">Implementation of Planning DCM and CoM Trajectories</span></div>"
   ]
  },
  {
   "cell_type": "code",
   "execution_count": null,
   "id": "d77f3d14",
   "metadata": {
    "scrolled": true
   },
   "outputs": [],
   "source": [
    "CoPOffset=np.array([0.0,0.0]) #Offset between CoP and footprint position \n",
    "\n",
    "DCMPlanner = DCMTrajectoryGenerator(pelvisHeight, stepDuration)#We create an object of foot DCMTrajectoryGenerator Class\n",
    "CoPPositions=np.empty((DCMPlanner.numberOfSteps+1, 3))#Initialization of the CoP array\n",
    "\n",
    "#In the following we define the foot step positions\n",
    "for i in range(0,DCMPlanner.numberOfSteps+1):\n",
    "    if(i%2!=0):\n",
    "        CoPPositions[i][:]=[(i)*stepLength-CoPOffset[0],stepWidth-CoPOffset[1],0.0]\n",
    "        if(i==1):\n",
    "            CoPPositions[i][:]=[(i)*stepLength,stepWidth-CoPOffset[1],0.0]\n",
    "    else:\n",
    "        CoPPositions[i][:]=[(i)*stepLength-CoPOffset[0],-stepWidth+CoPOffset[1],0.0]\n",
    "        if(i==0):\n",
    "            CoPPositions[i][:]=[(i)*stepLength,-stepWidth+CoPOffset[1],0.0]\n",
    "        \n",
    "DCMPlanner.setCoP(CoPPositions)#We set the desired CoP positions\n",
    "DCMPlanner.setFootPrints(FootPrints)#We set the foot steps positions\n",
    "DCMTrajectory = DCMPlanner.getDCMTrajectory()#At the end of DCM Planning the size of DCM vector should be 4320\n",
    "initialCoM = np.array([0.0,0.0,DCMPlanner.CoMHeight])\n",
    "comTrajectory = DCMPlanner.getCoMTrajectory(initialCoM)\n",
    "DCMPlanner.calculateCoPTrajectory()"
   ]
  },
  {
   "cell_type": "markdown",
   "id": "e096a672",
   "metadata": {},
   "source": [
    "<div style=\"text-align:center\"><span style=\"color:black; font-family:helvetica; font-size:1.7em;\">Plot DCM and CoM Trajectories</span></div>"
   ]
  },
  {
   "cell_type": "code",
   "execution_count": null,
   "id": "234220d0",
   "metadata": {},
   "outputs": [],
   "source": [
    "fig4, (ax4) = plt.subplots(figsize = (14, 7))\n",
    "footWidth=0.1\n",
    "footLength=0.14\n",
    "for i in range(0,np.size(DCMPlanner.footPrints,0)):\n",
    "    rect = plt.Rectangle((DCMPlanner.footPrints[i,0]-footLength/2, DCMPlanner.footPrints[i,1]-footWidth/2),footLength, footWidth,\n",
    "           facecolor=\"pink\", alpha=0.4) \n",
    "    ax4.add_patch(rect)\n",
    "ax4.set(xlim=(-0.2, 2.3), ylim=(-0.4, 0.4))\n",
    "ax4.scatter(DCMPlanner.CoP[:,0],DCMPlanner.CoP[:,1],c='red',label=\"CoP\")\n",
    "ax4.set_xlabel('X(m)')\n",
    "ax4.set_ylabel('Y(m)')\n",
    "ax4.plot(np.array(DCMPlanner.DCM)[:,0],np.array(DCMPlanner.DCM)[:,1],'blue',label=\"DCM\")\n",
    "ax4.plot(DCMPlanner.CoM[:,0],DCMPlanner.CoM[:,1],'springgreen',label=\"CoM\")\n",
    "fig4.legend(bbox_to_anchor=(0.87, 0.87))\n",
    "plt.show()\n",
    "\n",
    "\n",
    "figg5, (ax5) = plt.subplots(figsize = (14, 7))\n",
    "ax5.plot(np.array(DCMPlanner.DCM)[:,0],'b',label=\"DCM\")\n",
    "ax5.plot(DCMPlanner.CoM[:,0],'g',label=\"CoM\")\n",
    "ax5.plot(DCMPlanner.CoPTrajectory[:,0],'--r',label=\"CoP\")\n",
    "ax5.set_xlabel('sampling time')\n",
    "ax5.set_ylabel('X Trajectory(m)')\n",
    "ax5.set(xlim=(-0.0,2830), ylim=(-0.0, 2.3))\n",
    "figg5.legend(bbox_to_anchor=(0.8, 0.8))\n",
    "plt.show() \n",
    "\n",
    "figg6, (ax6) = plt.subplots(figsize = (14, 7))\n",
    "ax6.plot(np.array(DCMPlanner.DCM)[:,1],'b',label=\"DCM\")\n",
    "ax6.plot(DCMPlanner.CoM[:,1],'g',label=\"CoM\")\n",
    "ax6.plot(DCMPlanner.CoPTrajectory[:,1],'--r',label=\"CoP\")\n",
    "ax6.set_ylabel('Y Trajectory(m)')\n",
    "ax6.set_xlabel('sampling time')\n",
    "ax6.set(xlim=(0,2830), ylim=(-0.14, 0.14))\n",
    "figg6.legend(bbox_to_anchor=(0.8, 0.8))\n",
    "plt.show() \n",
    " "
   ]
  },
  {
   "cell_type": "markdown",
   "id": "72be2970",
   "metadata": {},
   "source": [
    "<div style=\"text-align:center\"><span style=\"color:black; font-family:helvetica; font-size:1.7em;\">Implementing Trajectories on the Robot</span></div>\n"
   ]
  },
  {
   "cell_type": "code",
   "execution_count": null,
   "id": "cd3cb3d2",
   "metadata": {},
   "outputs": [],
   "source": [
    "AtlasUtils = RobotUtils()#This object is responsible for inverse kinematics\n",
    "\n",
    "#Preparing the constant joints position for the upper-body joints\n",
    "leftArmPositions=[-0.2,-1.7,0.3,-0.3,0.0,0.0,0.0]\n",
    "rightArmPositions=[ 0.2, 1.7,0.3, 0.3,0.0,0.0,0.0]\n",
    "bodyPositions = [0.0,0.0,0.0,0.0]\n",
    "leftArmIndex = [3,4,5,6,7,8,9]\n",
    "rightArmIndex= [11,12,13,14,15,16,17]\n",
    "bodyIndex = [0,1,2,10]\n",
    "leftLegIndex=[18,19,20,21,22,23]\n",
    "rightLegIndex=[24,25,26,27,28,29]\n",
    "jointsIndex= np.zeros(30)\n",
    "jointsPositions= np.zeros(30)\n",
    "jointsIndex[0:4]=bodyIndex\n",
    "jointsIndex[4:11]=rightArmIndex\n",
    "jointsIndex[11:18]=leftArmIndex\n",
    "jointsIndex[18:24]=rightLegIndex\n",
    "jointsIndex[24:30]=leftLegIndex\n",
    "jointsPositions[0:4]=bodyPositions\n",
    "jointsPositions[4:11]=rightArmPositions\n",
    "jointsPositions[11:18]=leftArmPositions\n",
    "\n",
    "\n",
    "for i in range(1000):  #1000 sampling time will be allocated for the initialization of the robot position\n",
    "    lowerBodyJoints= AtlasUtils.doInverseKinematics([0.0,0.0,0.9 - (i/1000)* (0.9-DCMPlanner.CoMHeight)], np.eye(3),[0.0,0.13,0.0], np.eye(3),[0.0, -0.13,0.0], np.eye(3))\n",
    "    jointsPositions[24:30] = lowerBodyJoints[6:12]\n",
    "    jointsPositions[18:24] = lowerBodyJoints[0:6]\n",
    "    pybullet.setJointMotorControlArray(bodyIndex=robotID,\n",
    "                                jointIndices=jointsIndex,\n",
    "                                controlMode=pybullet.POSITION_CONTROL,\n",
    "                                targetPositions = jointsPositions)\n",
    "    pybullet.stepSimulation()\n",
    "    time.sleep(0.0002)\n",
    "    \n",
    "time.sleep(1)#Just wait for a second\n",
    "\n",
    "#Solving the inverse kinematic and sending the joints position command to the robot\n",
    "for i in range(int((DCMPlanner.numberOfSamplesPerSecond) * CoPPositions.shape[0] * DCMPlanner.stepDuration)):\n",
    "    lowerBodyJoints = AtlasUtils.doInverseKinematics(comTrajectory[i], np.eye(3),leftFootTrajectory[i], np.eye(3),rightFootTrajectory[i], np.eye(3))\n",
    "    jointsPositions[24:30] = lowerBodyJoints[6:12]\n",
    "    jointsPositions[18:24] = lowerBodyJoints[0:6]\n",
    "    pybullet.setJointMotorControlArray(bodyIndex=robotID,\n",
    "                                jointIndices=jointsIndex,\n",
    "                                controlMode=pybullet.POSITION_CONTROL,\n",
    "                                targetPositions = jointsPositions)\n",
    "    \n",
    "    \n",
    "    \n",
    "    #The following part, at every 14 sampling period, will plot the foot and pelvis trajectory in pybullet \n",
    "    if(i>14 and i%14==0):\n",
    "        pybullet.addUserDebugLine(comTrajectory[i-14],comTrajectory[i],[0,0.9,0.0],4,140)\n",
    "        pybullet.addUserDebugLine(leftFootTrajectory[i-14],leftFootTrajectory[i],[1.0,0.0,0.8],4,140)\n",
    "        pybullet.addUserDebugLine(rightFootTrajectory[i-14],rightFootTrajectory[i],[0.1,0.9,0.8],4,140)\n",
    "    pybullet.stepSimulation()\n",
    "\n"
   ]
  },
  {
   "cell_type": "code",
   "execution_count": null,
   "id": "e2ec0296",
   "metadata": {},
   "outputs": [],
   "source": [
    "time.sleep(7)\n",
    "pybullet.disconnect()"
   ]
  },
  {
   "cell_type": "markdown",
   "id": "41fda616",
   "metadata": {},
   "source": [
    "Questions:\n",
    "\n",
    "1-Based on equation (5), which physical parameters will affect the rate of divergence of the DCM dynamics?\n",
    "\n",
    "2-In the DCM motion planning, how do we guarantee dynamic balancing conditions?\n",
    "\n",
    "3-If we do have dynamic balancing guarantees, why is the robot not able to walk without parameter tuning?\n",
    "\n",
    "4-In order to achieve stable locomotion, which parameters did you tune and what are their values?\n",
    "\n",
    "5-Please calculate and plot the real ZMP(CoP) using contact force from pybullet during locomotion.\n",
    "\n",
    "6-Please tune the step position and duration in the \"Planning Feet Trajectories\" section or any other parameters to achieve faster locomotion. What is the fastest walking speed you can achieve and what are the corresponding parameters?\n",
    "\n",
    "7-Let's assume we would like to have robot walking on the surface of the moon, by considering the gravity condition of the moon, what's the fastest walking speed that you can achieve and what are the corresponding parameters? \n",
    "\n",
    "8-Do we considered double support during DCM planning? What could be the effect of considering double support\n",
    "for DCM planning?"
   ]
  },
  {
   "cell_type": "code",
   "execution_count": null,
   "id": "945aae14",
   "metadata": {},
   "outputs": [],
   "source": []
  },
  {
   "cell_type": "code",
   "execution_count": null,
   "id": "6a90b23a",
   "metadata": {},
   "outputs": [],
   "source": []
  },
  {
   "cell_type": "code",
   "execution_count": null,
   "id": "9317a47f",
   "metadata": {},
   "outputs": [],
   "source": []
  },
  {
   "cell_type": "code",
   "execution_count": null,
   "id": "caf9556d",
   "metadata": {},
   "outputs": [],
   "source": []
  },
  {
   "cell_type": "code",
   "execution_count": null,
   "id": "a56f9b67",
   "metadata": {},
   "outputs": [],
   "source": []
  },
  {
   "cell_type": "code",
   "execution_count": null,
   "id": "279eec40",
   "metadata": {},
   "outputs": [],
   "source": []
  },
  {
   "cell_type": "code",
   "execution_count": null,
   "id": "53a8bcb7",
   "metadata": {},
   "outputs": [],
   "source": []
  },
  {
   "cell_type": "code",
   "execution_count": null,
   "id": "541b341f",
   "metadata": {},
   "outputs": [],
   "source": []
  },
  {
   "cell_type": "code",
   "execution_count": null,
   "id": "2348890e",
   "metadata": {},
   "outputs": [],
   "source": []
  },
  {
   "cell_type": "code",
   "execution_count": null,
   "id": "201f07d4",
   "metadata": {},
   "outputs": [],
   "source": []
  }
 ],
 "metadata": {
  "kernelspec": {
   "display_name": "Python 3 (ipykernel)",
   "language": "python",
   "name": "python3"
  },
  "language_info": {
   "codemirror_mode": {
    "name": "ipython",
    "version": 3
   },
   "file_extension": ".py",
   "mimetype": "text/x-python",
   "name": "python",
   "nbconvert_exporter": "python",
   "pygments_lexer": "ipython3",
   "version": "3.9.13"
  }
 },
 "nbformat": 4,
 "nbformat_minor": 5
}
